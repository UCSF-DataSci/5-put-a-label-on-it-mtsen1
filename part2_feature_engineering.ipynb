{
 "cells": [
  {
   "cell_type": "markdown",
   "id": "c8c2db48",
   "metadata": {},
   "source": [
    "# Install necessary packages"
   ]
  },
  {
   "cell_type": "code",
   "execution_count": null,
   "id": "64ccc24f",
   "metadata": {},
   "outputs": [],
   "source": [
    "%pip install -r requirements.txt"
   ]
  },
  {
   "cell_type": "markdown",
   "id": "3c6d0271",
   "metadata": {},
   "source": [
    "# Part 2: Time Series Features & Tree-Based Models\n",
    "\n",
    "**Objective:** Extract basic time-series features from heart rate data, train Random Forest and XGBoost models, and compare their performance.\n"
   ]
  },
  {
   "cell_type": "markdown",
   "id": "6e626671",
   "metadata": {},
   "source": [
    "## 1. Setup\n",
    "\n",
    "Import necessary libraries."
   ]
  },
  {
   "cell_type": "code",
   "execution_count": 1,
   "id": "fe10f3fb",
   "metadata": {},
   "outputs": [],
   "source": [
    "import pandas as pd\n",
    "import numpy as np\n",
    "import os\n",
    "from sklearn.model_selection import train_test_split\n",
    "from sklearn.ensemble import RandomForestClassifier\n",
    "import xgboost as xgb\n",
    "from sklearn.metrics import roc_auc_score\n",
    "from sklearn.impute import SimpleImputer\n",
    "from xgboost import XGBClassifier"
   ]
  },
  {
   "cell_type": "markdown",
   "id": "8e87b1bc",
   "metadata": {},
   "source": [
    "## 2. Data Loading\n",
    "\n",
    "Load the dataset."
   ]
  },
  {
   "cell_type": "code",
   "execution_count": 2,
   "id": "2374c95e",
   "metadata": {},
   "outputs": [],
   "source": [
    "def load_data(file_path):\n",
    "    \"\"\"\n",
    "    Load the synthetic health data from a CSV file.\n",
    "    \n",
    "    Args:\n",
    "        file_path: Path to the CSV file\n",
    "        \n",
    "    Returns:\n",
    "        DataFrame containing the data with timestamp parsed as datetime\n",
    "    \"\"\"\n",
    "    # YOUR CODE HERE\n",
    "    # Load the CSV file using pandas\n",
    "    # Make sure to parse the timestamp column as datetime\n",
    "\n",
    "    df = pd.read_csv(file_path, parse_dates=['timestamp'])\n",
    "    \n",
    "    return df  # Replace with actual implementation"
   ]
  },
  {
   "cell_type": "markdown",
   "id": "288d2a2f",
   "metadata": {},
   "source": [
    "## 3. Feature Engineering\n",
    "\n",
    "Implement `extract_rolling_features` to calculate rolling mean and standard deviation for the `heart_rate`.\n"
   ]
  },
  {
   "cell_type": "code",
   "execution_count": 3,
   "id": "ff8196fd",
   "metadata": {},
   "outputs": [],
   "source": [
    "def extract_rolling_features(df, window_size_seconds):\n",
    "    \"\"\"\n",
    "    Calculate rolling mean and standard deviation for heart rate.\n",
    "    \n",
    "    Args:\n",
    "        df: DataFrame with timestamp and heart_rate columns\n",
    "        window_size_seconds: Size of the rolling window in seconds\n",
    "        \n",
    "    Returns:\n",
    "        DataFrame with added hr_rolling_mean and hr_rolling_std columns\n",
    "    \"\"\"\n",
    "    # YOUR CODE HERE\n",
    "    # 1. Sort data by timestamp\n",
    "    df_sorted = df.sort_values('timestamp')\n",
    "\n",
    "    # 2. Set timestamp as index (this allows time-based operations)\n",
    "    df_indexed = df_sorted.set_index('timestamp')\n",
    "    \n",
    "    # 3. Calculate rolling mean and standard deviation\n",
    "    #    - First, create a rolling window object based on time:\n",
    "    rolling_window = df_indexed['heart_rate'].rolling(window=f'{window_size_seconds}s')\n",
    "    #    - Then calculate statistics on this window:\n",
    "    hr_mean = rolling_window.mean()\n",
    "    hr_std = rolling_window.std()\n",
    "    \n",
    "    # 4. Add the new columns back to the dataframe\n",
    "    df_indexed['hr_rolling_mean'] = hr_mean\n",
    "    df_indexed['hr_rolling_std'] = hr_std\n",
    "    \n",
    "    # 5. Reset index to bring timestamp back as a column\n",
    "    df_result = df_indexed.reset_index()\n",
    "    \n",
    "    # 6. Handle any NaN values (rolling calculations create NaNs at the beginning)\n",
    "    #    - You can use fillna, dropna, or other methods depending on your strategy\n",
    "    df_result = df_result.fillna(method='bfill') \n",
    "    \n",
    "    # Placeholder return - replace with your implementation\n",
    "    df_with_features = df_result.copy()\n",
    "    return df_with_features"
   ]
  },
  {
   "cell_type": "markdown",
   "id": "c97c9b6f",
   "metadata": {},
   "source": [
    "## 4. Data Preparation\n",
    "\n",
    "Implement `prepare_data_part2` using the newly engineered features."
   ]
  },
  {
   "cell_type": "code",
   "execution_count": 4,
   "id": "e5e73bf6",
   "metadata": {},
   "outputs": [],
   "source": [
    "def prepare_data_part2(df_with_features, test_size=0.2, random_state=42):\n",
    "    \"\"\"\n",
    "    Prepare data for modeling with time-series features.\n",
    "    \n",
    "    Args:\n",
    "        df_with_features: DataFrame with original and rolling features\n",
    "        test_size: Proportion of data for testing\n",
    "        random_state: Random seed for reproducibility\n",
    "        \n",
    "    Returns:\n",
    "        X_train, X_test, y_train, y_test\n",
    "    \"\"\"\n",
    "    # YOUR CODE HERE\n",
    "    # 1. Select relevant features including the rolling features\n",
    "    # 2. Select target variable (disease_outcome)\n",
    "    # 3. Split data into training and testing sets\n",
    "    # 4. Handle missing values\n",
    "\n",
    "    X = df_with_features[['age', 'systolic_bp', 'diastolic_bp', 'glucose_level', 'bmi', 'hr_rolling_mean', 'hr_rolling_std']]\n",
    "    Y = df_with_features[['disease_outcome']]\n",
    "    \n",
    "    X_train, X_test, y_train, y_test = train_test_split(X, Y, test_size = test_size, random_state = random_state)\n",
    "    \n",
    "    # Placeholder return - replace with your implementation\n",
    "    return X_train, X_test, y_train, y_test\n"
   ]
  },
  {
   "cell_type": "markdown",
   "id": "7b291ed0",
   "metadata": {},
   "source": [
    "## 5. Random Forest Model\n",
    "\n",
    "Implement `train_random_forest`."
   ]
  },
  {
   "cell_type": "code",
   "execution_count": 10,
   "id": "2bd9736e",
   "metadata": {},
   "outputs": [],
   "source": [
    "def train_random_forest(X_train, y_train, n_estimators=100, max_depth=10, random_state=42):\n",
    "    \"\"\"\n",
    "    Train a Random Forest classifier.\n",
    "    \n",
    "    Args:\n",
    "        X_train: Training features\n",
    "        y_train: Training target\n",
    "        n_estimators: Number of trees in the forest\n",
    "        max_depth: Maximum depth of the trees\n",
    "        random_state: Random seed for reproducibility\n",
    "        \n",
    "    Returns:\n",
    "        Trained Random Forest model\n",
    "    \"\"\"\n",
    "    # YOUR CODE HERE\n",
    "    # Initialize and train a RandomForestClassifier\n",
    "\n",
    "    rf_model = RandomForestClassifier(n_estimators=n_estimators, max_depth=max_depth, random_state=random_state)\n",
    "    rf_model.fit(X_train, y_train)\n",
    "    \n",
    "    return rf_model  # Replace with actual implementation"
   ]
  },
  {
   "cell_type": "markdown",
   "id": "1036adfa",
   "metadata": {},
   "source": [
    "## 6. XGBoost Model\n",
    "\n",
    "Implement `train_xgboost`."
   ]
  },
  {
   "cell_type": "code",
   "execution_count": 11,
   "id": "5febf9a1",
   "metadata": {},
   "outputs": [],
   "source": [
    "def train_xgboost(X_train, y_train, n_estimators=100, learning_rate=0.1, max_depth=5, random_state=42):\n",
    "    \"\"\"\n",
    "    Train an XGBoost classifier.\n",
    "    \n",
    "    Args:\n",
    "        X_train: Training features\n",
    "        y_train: Training target\n",
    "        n_estimators: Number of boosting rounds\n",
    "        learning_rate: Boosting learning rate\n",
    "        max_depth: Maximum depth of a tree\n",
    "        random_state: Random seed for reproducibility\n",
    "        \n",
    "    Returns:\n",
    "        Trained XGBoost model\n",
    "    \"\"\"\n",
    "    # YOUR CODE HERE\n",
    "    # Initialize and train an XGBClassifier\n",
    "\n",
    "    xgb_model = XGBClassifier(n_estimators=n_estimators, learning_rate=learning_rate, max_depth=max_depth, random_state=random_state)\n",
    "    xgb_model.fit(X_train, y_train)\n",
    "    \n",
    "    return xgb_model  # Replace with actual implementation"
   ]
  },
  {
   "cell_type": "markdown",
   "id": "db360031",
   "metadata": {},
   "source": [
    "## 7. Model Comparison\n",
    "\n",
    "Calculate and compare AUC scores for both models."
   ]
  },
  {
   "cell_type": "code",
   "execution_count": null,
   "id": "82aee724",
   "metadata": {},
   "outputs": [
    {
     "ename": "NameError",
     "evalue": "name 'rf_model' is not defined",
     "output_type": "error",
     "traceback": [
      "\u001b[31m---------------------------------------------------------------------------\u001b[39m",
      "\u001b[31mNameError\u001b[39m                                 Traceback (most recent call last)",
      "\u001b[36mCell\u001b[39m\u001b[36m \u001b[39m\u001b[32mIn[12]\u001b[39m\u001b[32m, line 3\u001b[39m\n\u001b[32m      1\u001b[39m \u001b[38;5;66;03m# YOUR CODE HERE\u001b[39;00m\n\u001b[32m      2\u001b[39m \u001b[38;5;66;03m# 1. Generate probability predictions for both models\u001b[39;00m\n\u001b[32m----> \u001b[39m\u001b[32m3\u001b[39m rf_preds = \u001b[43mrf_model\u001b[49m.predict_proba(X_test)[:,\u001b[32m1\u001b[39m]\n\u001b[32m      4\u001b[39m xgb_preds = xgb_model.predict_proba(X_test)[:,\u001b[32m1\u001b[39m]\n\u001b[32m      6\u001b[39m \u001b[38;5;66;03m# 2. Calculate AUC scores\u001b[39;00m\n",
      "\u001b[31mNameError\u001b[39m: name 'rf_model' is not defined"
     ]
    }
   ],
   "source": [
    "# YOUR CODE HERE\n",
    "# 1. Generate probability predictions for both models\n",
    "# rf_preds = rf_model.predict_proba(X_test)[:,1]\n",
    "# xgb_preds = xgb_model.predict_proba(X_test)[:,1]\n",
    "\n",
    "# # 2. Calculate AUC scores\n",
    "# rf_auc = roc_auc_score(y_test, rf_preds)\n",
    "# xgb_auc = roc_auc_score(y_test, xgb_preds)\n",
    "\n",
    "# # 3. Compare the performance\n",
    "# print(f'Random Forest AUC: {rf_auc}')\n",
    "# print(f'XGBoost AUC: {xgb_auc}')\n"
   ]
  },
  {
   "cell_type": "markdown",
   "id": "775a055d",
   "metadata": {},
   "source": [
    "## 8. Save Results\n",
    "\n",
    "Save the AUC scores to a text file."
   ]
  },
  {
   "cell_type": "code",
   "execution_count": null,
   "id": "b07d227b",
   "metadata": {},
   "outputs": [
    {
     "ename": "NameError",
     "evalue": "name 'rf_auc' is not defined",
     "output_type": "error",
     "traceback": [
      "\u001b[31m---------------------------------------------------------------------------\u001b[39m",
      "\u001b[31mNameError\u001b[39m                                 Traceback (most recent call last)",
      "\u001b[36mCell\u001b[39m\u001b[36m \u001b[39m\u001b[32mIn[8]\u001b[39m\u001b[32m, line 8\u001b[39m\n\u001b[32m      5\u001b[39m     os.makedirs(results_dir)\n\u001b[32m      7\u001b[39m \u001b[38;5;66;03m# 2. Format AUC scores as strings\u001b[39;00m\n\u001b[32m----> \u001b[39m\u001b[32m8\u001b[39m rf_auc_str = \u001b[33mf\u001b[39m\u001b[33m'\u001b[39m\u001b[33mRandom Forest AUC: \u001b[39m\u001b[38;5;132;01m{\u001b[39;00m\u001b[43mrf_auc\u001b[49m\u001b[38;5;132;01m:\u001b[39;00m\u001b[33m.4f\u001b[39m\u001b[38;5;132;01m}\u001b[39;00m\u001b[33m'\u001b[39m\n\u001b[32m      9\u001b[39m xgb_auc_str = \u001b[33mf\u001b[39m\u001b[33m'\u001b[39m\u001b[33mXGBoost AUC: \u001b[39m\u001b[38;5;132;01m{\u001b[39;00mxgb_auc\u001b[38;5;132;01m:\u001b[39;00m\u001b[33m.4f\u001b[39m\u001b[38;5;132;01m}\u001b[39;00m\u001b[33m'\u001b[39m\n\u001b[32m     11\u001b[39m \u001b[38;5;66;03m# 3. Write scores to 'results/results_part2.txt'\u001b[39;00m\n",
      "\u001b[31mNameError\u001b[39m: name 'rf_auc' is not defined"
     ]
    }
   ],
   "source": [
    "# YOUR CODE HERE\n",
    "# 1. Create 'results' directory if it doesn't exist\n",
    "# results_dir = 'results'\n",
    "# if not os.path.exists(results_dir):\n",
    "#     os.makedirs(results_dir)\n",
    "\n",
    "# # 2. Format AUC scores as strings\n",
    "# rf_auc_str = f'Random Forest AUC: {rf_auc:.4f}'\n",
    "# xgb_auc_str = f'XGBoost AUC: {xgb_auc:.4f}'\n",
    "\n",
    "# # 3. Write scores to 'results/results_part2.txt'\n",
    "# with open(os.path.join(results_dir, 'results_part2.txt'), 'w') as f:\n",
    "#     f.write(rf_auc_str + '\\n')\n",
    "#     f.write(xgb_auc_str)"
   ]
  },
  {
   "cell_type": "markdown",
   "id": "9a875a5f",
   "metadata": {},
   "source": [
    "## 9. Main Execution\n",
    "\n",
    "Run the complete workflow."
   ]
  },
  {
   "cell_type": "code",
   "execution_count": 28,
   "id": "fd0defd5",
   "metadata": {},
   "outputs": [
    {
     "name": "stderr",
     "output_type": "stream",
     "text": [
      "/tmp/ipykernel_34992/247329253.py:35: FutureWarning: DataFrame.fillna with 'method' is deprecated and will raise in a future version. Use obj.ffill() or obj.bfill() instead.\n",
      "  df_result = df_result.fillna(method='bfill')\n",
      "/workspaces/5-put-a-label-on-it-mtsen1/.venv/lib/python3.12/site-packages/sklearn/base.py:1389: DataConversionWarning: A column-vector y was passed when a 1d array was expected. Please change the shape of y to (n_samples,), for example using ravel().\n",
      "  return fit_method(estimator, *args, **kwargs)\n"
     ]
    },
    {
     "name": "stdout",
     "output_type": "stream",
     "text": [
      "Random Forest AUC: 0.9740\n",
      "XGBoost AUC: 0.9951\n"
     ]
    }
   ],
   "source": [
    "# Main execution\n",
    "if __name__ == \"__main__\":\n",
    "    # 1. Load data\n",
    "    data_file = 'data/synthetic_health_data.csv'\n",
    "    df = load_data(data_file)\n",
    "    \n",
    "    # 2. Extract rolling features\n",
    "    window_size = 300  # 5 minutes in seconds\n",
    "    df_with_features = extract_rolling_features(df, window_size)\n",
    "    \n",
    "    # 3. Prepare data\n",
    "    X_train, X_test, y_train, y_test = prepare_data_part2(df_with_features)\n",
    "    \n",
    "    # 4. Train models\n",
    "    rf_model = train_random_forest(X_train, y_train)\n",
    "    xgb_model = train_xgboost(X_train, y_train)\n",
    "    \n",
    "    # 5. Calculate AUC scores\n",
    "    rf_probs = rf_model.predict_proba(X_test)[:, 1]\n",
    "    xgb_probs = xgb_model.predict_proba(X_test)[:, 1]\n",
    "    \n",
    "    rf_auc = roc_auc_score(y_test, rf_probs)\n",
    "    xgb_auc = roc_auc_score(y_test, xgb_probs)\n",
    "    \n",
    "    print(f\"Random Forest AUC: {rf_auc:.4f}\")\n",
    "    print(f\"XGBoost AUC: {xgb_auc:.4f}\")\n",
    "    \n",
    "    # 6. Save results\n",
    "    # (Your code for saving results)\n",
    "    results_dir = 'results'\n",
    "    if not os.path.exists(results_dir):\n",
    "        os.makedirs(results_dir)\n",
    "    \n",
    "    rf_auc_str = f'Random Forest AUC: {rf_auc:.4f}'\n",
    "    xgb_auc_str = f'XGBoost AUC: {xgb_auc:.4f}'\n",
    "    \n",
    "    with open(os.path.join(results_dir, 'results_part2.txt'), 'w') as f:\n",
    "        f.write(rf_auc_str + '\\n')\n",
    "        f.write(xgb_auc_str)\n"
   ]
  }
 ],
 "metadata": {
  "kernelspec": {
   "display_name": ".venv",
   "language": "python",
   "name": "python3"
  },
  "language_info": {
   "codemirror_mode": {
    "name": "ipython",
    "version": 3
   },
   "file_extension": ".py",
   "mimetype": "text/x-python",
   "name": "python",
   "nbconvert_exporter": "python",
   "pygments_lexer": "ipython3",
   "version": "3.12.1"
  }
 },
 "nbformat": 4,
 "nbformat_minor": 5
}
